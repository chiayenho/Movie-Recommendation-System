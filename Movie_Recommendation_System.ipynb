{
 "cells": [
  {
   "cell_type": "code",
   "execution_count": null,
   "metadata": {
    "id": "kremQVqD-xxY"
   },
   "outputs": [],
   "source": [
    "# inspired by https://www.kaggle.com/ibtesama/getting-started-with-a-movie-recommendation-system"
   ]
  },
  {
   "cell_type": "code",
   "execution_count": 1,
   "metadata": {
    "id": "uy-ip8lWwAwc"
   },
   "outputs": [],
   "source": [
    "import pandas as pd \n",
    "import numpy as np\n",
    "from sklearn.metrics.pairwise import cosine_similarity\n",
    "from sklearn.metrics.pairwise import linear_kernel\n",
    "from sklearn.feature_extraction.text import TfidfVectorizer\n",
    "from sklearn.feature_extraction.text import CountVectorizer\n",
    "from nltk.stem.wordnet import WordNetLemmatizer\n",
    "from nltk.tokenize import word_tokenize\n",
    "from ast import literal_eval"
   ]
  },
  {
   "cell_type": "code",
   "execution_count": 2,
   "metadata": {
    "id": "F48pf3MMwHyL"
   },
   "outputs": [],
   "source": [
    "credit = pd.read_csv('tmdb_5000_credits.csv')\n",
    "movie = pd.read_csv('tmdb_5000_movies.csv')\n",
    "ratings = pd.read_csv('ratings_small.csv')"
   ]
  },
  {
   "cell_type": "markdown",
   "metadata": {
    "id": "PJPWfby15Phm"
   },
   "source": [
    "# Demographic Filtering"
   ]
  },
  {
   "cell_type": "code",
   "execution_count": 3,
   "metadata": {},
   "outputs": [],
   "source": [
    "#Merge DataFrame\n",
    "merged= movie.merge(credit,left_on=['id','title'],right_on=['movie_id','title'])"
   ]
  },
  {
   "cell_type": "code",
   "execution_count": 5,
   "metadata": {
    "colab": {
     "base_uri": "https://localhost:8080/",
     "height": 385
    },
    "id": "LRU9rvYG6nyg",
    "outputId": "18654a79-0878-4984-8c9f-d88b42fea868"
   },
   "outputs": [
    {
     "name": "stdout",
     "output_type": "stream",
     "text": [
      "(481, 23)\n"
     ]
    }
   ],
   "source": [
    "#Calculate Weighted Rating\n",
    "\n",
    "# movies which is higher than the mean can be in the chart\n",
    "C= merged['vote_average'].mean()  \n",
    "# movies voted have to be more than 90% percentile to enter the chart\n",
    "m= merged['vote_count'].quantile(0.9)\n",
    "#Create a copy file and filter the qualified movie\n",
    "q_movies = merged.copy().loc[merged['vote_count'] >= m]\n",
    "print(q_movies.shape)\n",
    "\n",
    "# There are 481 movies qualified to be in the chart\n",
    "\n",
    "def weighted_rating(x, m=m, C=C):\n",
    "    v = x['vote_count']\n",
    "    R = x['vote_average']\n",
    "    # Calculation based on the IMDB formula\n",
    "    return (v/(v+m) * R) + (m/(m+v) * C)\n",
    "\n",
    "# Define a new feature 'score' and calculate its value with `weighted_rating()`\n",
    "q_movies['score'] = q_movies.apply(weighted_rating, axis=1)\n"
   ]
  },
  {
   "cell_type": "code",
   "execution_count": 6,
   "metadata": {},
   "outputs": [
    {
     "data": {
      "text/html": [
       "<div>\n",
       "<style scoped>\n",
       "    .dataframe tbody tr th:only-of-type {\n",
       "        vertical-align: middle;\n",
       "    }\n",
       "\n",
       "    .dataframe tbody tr th {\n",
       "        vertical-align: top;\n",
       "    }\n",
       "\n",
       "    .dataframe thead th {\n",
       "        text-align: right;\n",
       "    }\n",
       "</style>\n",
       "<table border=\"1\" class=\"dataframe\">\n",
       "  <thead>\n",
       "    <tr style=\"text-align: right;\">\n",
       "      <th></th>\n",
       "      <th>title</th>\n",
       "      <th>vote_count</th>\n",
       "      <th>vote_average</th>\n",
       "      <th>score</th>\n",
       "    </tr>\n",
       "  </thead>\n",
       "  <tbody>\n",
       "    <tr>\n",
       "      <th>1881</th>\n",
       "      <td>The Shawshank Redemption</td>\n",
       "      <td>8205</td>\n",
       "      <td>8.5</td>\n",
       "      <td>8.059258</td>\n",
       "    </tr>\n",
       "    <tr>\n",
       "      <th>662</th>\n",
       "      <td>Fight Club</td>\n",
       "      <td>9413</td>\n",
       "      <td>8.3</td>\n",
       "      <td>7.939256</td>\n",
       "    </tr>\n",
       "    <tr>\n",
       "      <th>65</th>\n",
       "      <td>The Dark Knight</td>\n",
       "      <td>12002</td>\n",
       "      <td>8.2</td>\n",
       "      <td>7.920020</td>\n",
       "    </tr>\n",
       "    <tr>\n",
       "      <th>3232</th>\n",
       "      <td>Pulp Fiction</td>\n",
       "      <td>8428</td>\n",
       "      <td>8.3</td>\n",
       "      <td>7.904645</td>\n",
       "    </tr>\n",
       "    <tr>\n",
       "      <th>96</th>\n",
       "      <td>Inception</td>\n",
       "      <td>13752</td>\n",
       "      <td>8.1</td>\n",
       "      <td>7.863239</td>\n",
       "    </tr>\n",
       "    <tr>\n",
       "      <th>3337</th>\n",
       "      <td>The Godfather</td>\n",
       "      <td>5893</td>\n",
       "      <td>8.4</td>\n",
       "      <td>7.851236</td>\n",
       "    </tr>\n",
       "    <tr>\n",
       "      <th>95</th>\n",
       "      <td>Interstellar</td>\n",
       "      <td>10867</td>\n",
       "      <td>8.1</td>\n",
       "      <td>7.809479</td>\n",
       "    </tr>\n",
       "    <tr>\n",
       "      <th>809</th>\n",
       "      <td>Forrest Gump</td>\n",
       "      <td>7927</td>\n",
       "      <td>8.2</td>\n",
       "      <td>7.803188</td>\n",
       "    </tr>\n",
       "    <tr>\n",
       "      <th>329</th>\n",
       "      <td>The Lord of the Rings: The Return of the King</td>\n",
       "      <td>8064</td>\n",
       "      <td>8.1</td>\n",
       "      <td>7.727243</td>\n",
       "    </tr>\n",
       "    <tr>\n",
       "      <th>1990</th>\n",
       "      <td>The Empire Strikes Back</td>\n",
       "      <td>5879</td>\n",
       "      <td>8.2</td>\n",
       "      <td>7.697884</td>\n",
       "    </tr>\n",
       "  </tbody>\n",
       "</table>\n",
       "</div>"
      ],
      "text/plain": [
       "                                              title  vote_count  vote_average  \\\n",
       "1881                       The Shawshank Redemption        8205           8.5   \n",
       "662                                      Fight Club        9413           8.3   \n",
       "65                                  The Dark Knight       12002           8.2   \n",
       "3232                                   Pulp Fiction        8428           8.3   \n",
       "96                                        Inception       13752           8.1   \n",
       "3337                                  The Godfather        5893           8.4   \n",
       "95                                     Interstellar       10867           8.1   \n",
       "809                                    Forrest Gump        7927           8.2   \n",
       "329   The Lord of the Rings: The Return of the King        8064           8.1   \n",
       "1990                        The Empire Strikes Back        5879           8.2   \n",
       "\n",
       "         score  \n",
       "1881  8.059258  \n",
       "662   7.939256  \n",
       "65    7.920020  \n",
       "3232  7.904645  \n",
       "96    7.863239  \n",
       "3337  7.851236  \n",
       "95    7.809479  \n",
       "809   7.803188  \n",
       "329   7.727243  \n",
       "1990  7.697884  "
      ]
     },
     "execution_count": 6,
     "metadata": {},
     "output_type": "execute_result"
    }
   ],
   "source": [
    "#Sort movies based on score calculated above\n",
    "q_movies = q_movies.sort_values('score', ascending=False)\n",
    "\n",
    "#Print the top 10 movies\n",
    "q_movies[['title', 'vote_count', 'vote_average', 'score']].head(10)"
   ]
  },
  {
   "cell_type": "markdown",
   "metadata": {
    "id": "OPjt41A66fr0"
   },
   "source": [
    "# Content Based Filtering"
   ]
  },
  {
   "cell_type": "markdown",
   "metadata": {
    "id": "VsjiTn5A7bp7"
   },
   "source": [
    "## Movie Description\n"
   ]
  },
  {
   "cell_type": "code",
   "execution_count": 7,
   "metadata": {
    "id": "DRmDiyyY6Z6k"
   },
   "outputs": [],
   "source": [
    "#Import file, rename column and merge\n",
    "df1 = credit\n",
    "df2 = movie\n",
    "user = ratings\n",
    "user = user.rename(columns = {'movieId':'movie_id'})\n",
    "user = pd.read_csv('ratings_small.csv').rename(columns = {'movieId':'movie_id'})\n",
    "user_df = pd.merge(user, df1, on='movie_id', how='inner')\n",
    "df1.columns = ['id','title','cast','crew']\n",
    "df2= df2.merge(df1,on=['id','title'])"
   ]
  },
  {
   "cell_type": "code",
   "execution_count": 8,
   "metadata": {
    "colab": {
     "base_uri": "https://localhost:8080/"
    },
    "id": "LmO5-fIn38wc",
    "outputId": "55a0fe55-33a3-45c2-8ccc-c146231e3190"
   },
   "outputs": [
    {
     "data": {
      "text/plain": [
       "(4803, 14400)"
      ]
     },
     "execution_count": 8,
     "metadata": {},
     "output_type": "execute_result"
    }
   ],
   "source": [
    "#Define a TF-IDF Vectorizer Object. Remove all english stop words such as 'the', 'a'\n",
    "tfidf = TfidfVectorizer(lowercase = True, stop_words='english', use_idf = True)\n",
    "\n",
    "# Define lemmatizer\n",
    "lemmatizer = WordNetLemmatizer()\n",
    "\n",
    "#Replace NaN with an empty string\n",
    "df2['overview'] = df2['overview'].fillna('.')\n",
    "df2['tagline'] = df2['tagline'].fillna('.')\n",
    "\n",
    "# Comine the overview with tagline descriptive data for each movie\n",
    "df2['overview_tagline'] = [df2['overview'][i].split('.')[0] +' '+df2['tagline'][i] for i in range(len(df2['overview']))]\n",
    "\n",
    "#Construct the required TF-IDF matrix by fitting and transforming the data\n",
    "\n",
    "corpus = list(df2['overview_tagline'])\n",
    "corpus_stemmed = []\n",
    "for line in corpus:\n",
    "    words = word_tokenize(line)\n",
    "    doc_stemmed = ''\n",
    "    for w in words:\n",
    "        w_stemmed = lemmatizer.lemmatize(w)\n",
    "        doc_stemmed += ' ' + w_stemmed\n",
    "    corpus_stemmed.append(doc_stemmed)\n",
    "    \n",
    "tfidf_matrix = tfidf.fit_transform(corpus_stemmed)\n",
    " \n",
    "\n",
    "#Output the shape of tfidf_matrix\n",
    "tfidf_matrix.shape\n"
   ]
  },
  {
   "cell_type": "code",
   "execution_count": 9,
   "metadata": {
    "colab": {
     "base_uri": "https://localhost:8080/"
    },
    "id": "k9XSX3no38yl",
    "outputId": "e9d86d66-ff32-4346-e92f-b224685487b8"
   },
   "outputs": [
    {
     "data": {
      "text/plain": [
       "array([[1.        , 0.01453412, 0.        , ..., 0.        , 0.        ,\n",
       "        0.        ],\n",
       "       [0.01453412, 1.        , 0.        , ..., 0.03937667, 0.03070786,\n",
       "        0.        ],\n",
       "       [0.        , 0.        , 1.        , ..., 0.        , 0.        ,\n",
       "        0.        ],\n",
       "       ...,\n",
       "       [0.        , 0.03937667, 0.        , ..., 1.        , 0.        ,\n",
       "        0.        ],\n",
       "       [0.        , 0.03070786, 0.        , ..., 0.        , 1.        ,\n",
       "        0.        ],\n",
       "       [0.        , 0.        , 0.        , ..., 0.        , 0.        ,\n",
       "        1.        ]])"
      ]
     },
     "execution_count": 9,
     "metadata": {},
     "output_type": "execute_result"
    }
   ],
   "source": [
    "# Compute the cosine similarity matrix\n",
    "cosine_sim = linear_kernel(tfidf_matrix, tfidf_matrix)\n",
    "cosine_sim"
   ]
  },
  {
   "cell_type": "code",
   "execution_count": 10,
   "metadata": {},
   "outputs": [],
   "source": [
    "indices = pd.Series(df2.index, index=df2['title']).drop_duplicates()"
   ]
  },
  {
   "cell_type": "code",
   "execution_count": 11,
   "metadata": {
    "id": "aOJW2FuB380_"
   },
   "outputs": [],
   "source": [
    "# Function that takes in movie title as input and outputs most similar movies\n",
    "def get_recommendations(title, cosine_sim=cosine_sim):\n",
    "    # Get the index of the movie that matches the title\n",
    "    idx = indices[title]\n",
    "\n",
    "    # Get the pairwsie similarity scores of all movies with that movie\n",
    "    sim_scores = list(enumerate(cosine_sim[idx]))\n",
    "\n",
    "    # Sort the movies based on the similarity scores\n",
    "    sim_scores = sorted(sim_scores, key=lambda x: x[1], reverse=True)\n",
    "\n",
    "    # Get the scores of the 10 most similar movies\n",
    "    sim_scores = sim_scores[1:11]\n",
    "\n",
    "    # Get the movie indices\n",
    "    movie_indices = [i[0] for i in sim_scores]\n",
    "\n",
    "    # Return the top 10 most similar movies\n",
    "    return df2['title'].iloc[movie_indices]"
   ]
  },
  {
   "cell_type": "code",
   "execution_count": 12,
   "metadata": {
    "colab": {
     "base_uri": "https://localhost:8080/"
    },
    "id": "J47Ixxlk383P",
    "outputId": "3323f5e3-0fc2-4fa3-fb57-149cd2d9c61e"
   },
   "outputs": [
    {
     "name": "stdout",
     "output_type": "stream",
     "text": [
      "2507                                  Slow Burn\n",
      "65                              The Dark Knight\n",
      "1181                                        JFK\n",
      "1369                                  Cape Fear\n",
      "2193                       Secret in Their Eyes\n",
      "2035                        Our Kind of Traitor\n",
      "1359                                     Batman\n",
      "3854    Batman: The Dark Knight Returns, Part 2\n",
      "975                           The International\n",
      "198                                    R.I.P.D.\n",
      "Name: title, dtype: object\n"
     ]
    }
   ],
   "source": [
    "#Get recommendations for 'The Dark Knight Rises'\n",
    "\n",
    "print(get_recommendations('The Dark Knight Rises'))"
   ]
  },
  {
   "cell_type": "code",
   "execution_count": 13,
   "metadata": {},
   "outputs": [
    {
     "name": "stdout",
     "output_type": "stream",
     "text": [
      "215     Fantastic 4: Rise of the Silver Surfer\n",
      "2136                Team America: World Police\n",
      "1715                                   Timecop\n",
      "133                               Dark Shadows\n",
      "1626                    My Super Ex-Girlfriend\n",
      "1234                            The Art of War\n",
      "1183                               The Mexican\n",
      "1907                              Maximum Risk\n",
      "553                                The Kingdom\n",
      "1704                             The Big Short\n",
      "Name: title, dtype: object\n"
     ]
    }
   ],
   "source": [
    "#Get recommendations for 'The Avengers'\n",
    "\n",
    "print(get_recommendations('The Avengers'))"
   ]
  },
  {
   "cell_type": "code",
   "execution_count": 14,
   "metadata": {
    "id": "LwzY4Mi0387K"
   },
   "outputs": [],
   "source": [
    "features = ['cast', 'crew', 'keywords', 'genres']\n",
    "for feature in features:\n",
    "    df2[feature] = df2[feature].apply(literal_eval)"
   ]
  },
  {
   "cell_type": "code",
   "execution_count": 15,
   "metadata": {
    "id": "Fr7XJ1zl389V"
   },
   "outputs": [],
   "source": [
    "# Get the director's name from the crew feature. If director is not listed, return NaN\n",
    "def get_director(x):\n",
    "    for i in x:\n",
    "        if i['job'] == 'Director':\n",
    "            return i['name']\n",
    "    return np.nan"
   ]
  },
  {
   "cell_type": "code",
   "execution_count": 16,
   "metadata": {
    "id": "hzEj-d8t38_u"
   },
   "outputs": [],
   "source": [
    "# Returns the list top 3 elements or entire list; whichever is more.\n",
    "def get_list(x):\n",
    "    if isinstance(x, list):\n",
    "        names = [i['name'] for i in x]\n",
    "        #Check if more than 3 elements exist. If yes, return only first three. If no, return entire list.\n",
    "        if len(names) > 3:\n",
    "            names = names[:3]\n",
    "        return names\n",
    "\n",
    "    #Return empty list in case of missing/malformed data\n",
    "    return []"
   ]
  },
  {
   "cell_type": "code",
   "execution_count": 17,
   "metadata": {
    "id": "QslvSa-a39CN"
   },
   "outputs": [],
   "source": [
    "# Define new director, cast, genres and keywords features that are in a suitable form.\n",
    "df2['director'] = df2['crew'].apply(get_director)\n",
    "\n",
    "features = ['cast', 'keywords', 'genres']\n",
    "for feature in features:\n",
    "    df2[feature] = df2[feature].apply(get_list)"
   ]
  },
  {
   "cell_type": "code",
   "execution_count": 18,
   "metadata": {
    "colab": {
     "base_uri": "https://localhost:8080/",
     "height": 143
    },
    "id": "4koSkM3D39Ei",
    "outputId": "5d0aa589-9987-4cb5-d3b2-e65fd2da58f3"
   },
   "outputs": [
    {
     "data": {
      "text/html": [
       "<div>\n",
       "<style scoped>\n",
       "    .dataframe tbody tr th:only-of-type {\n",
       "        vertical-align: middle;\n",
       "    }\n",
       "\n",
       "    .dataframe tbody tr th {\n",
       "        vertical-align: top;\n",
       "    }\n",
       "\n",
       "    .dataframe thead th {\n",
       "        text-align: right;\n",
       "    }\n",
       "</style>\n",
       "<table border=\"1\" class=\"dataframe\">\n",
       "  <thead>\n",
       "    <tr style=\"text-align: right;\">\n",
       "      <th></th>\n",
       "      <th>title</th>\n",
       "      <th>cast</th>\n",
       "      <th>director</th>\n",
       "      <th>keywords</th>\n",
       "      <th>genres</th>\n",
       "    </tr>\n",
       "  </thead>\n",
       "  <tbody>\n",
       "    <tr>\n",
       "      <th>0</th>\n",
       "      <td>Avatar</td>\n",
       "      <td>[Sam Worthington, Zoe Saldana, Sigourney Weaver]</td>\n",
       "      <td>James Cameron</td>\n",
       "      <td>[culture clash, future, space war]</td>\n",
       "      <td>[Action, Adventure, Fantasy]</td>\n",
       "    </tr>\n",
       "    <tr>\n",
       "      <th>1</th>\n",
       "      <td>Pirates of the Caribbean: At World's End</td>\n",
       "      <td>[Johnny Depp, Orlando Bloom, Keira Knightley]</td>\n",
       "      <td>Gore Verbinski</td>\n",
       "      <td>[ocean, drug abuse, exotic island]</td>\n",
       "      <td>[Adventure, Fantasy, Action]</td>\n",
       "    </tr>\n",
       "    <tr>\n",
       "      <th>2</th>\n",
       "      <td>Spectre</td>\n",
       "      <td>[Daniel Craig, Christoph Waltz, Léa Seydoux]</td>\n",
       "      <td>Sam Mendes</td>\n",
       "      <td>[spy, based on novel, secret agent]</td>\n",
       "      <td>[Action, Adventure, Crime]</td>\n",
       "    </tr>\n",
       "  </tbody>\n",
       "</table>\n",
       "</div>"
      ],
      "text/plain": [
       "                                      title  \\\n",
       "0                                    Avatar   \n",
       "1  Pirates of the Caribbean: At World's End   \n",
       "2                                   Spectre   \n",
       "\n",
       "                                               cast        director  \\\n",
       "0  [Sam Worthington, Zoe Saldana, Sigourney Weaver]   James Cameron   \n",
       "1     [Johnny Depp, Orlando Bloom, Keira Knightley]  Gore Verbinski   \n",
       "2      [Daniel Craig, Christoph Waltz, Léa Seydoux]      Sam Mendes   \n",
       "\n",
       "                              keywords                        genres  \n",
       "0   [culture clash, future, space war]  [Action, Adventure, Fantasy]  \n",
       "1   [ocean, drug abuse, exotic island]  [Adventure, Fantasy, Action]  \n",
       "2  [spy, based on novel, secret agent]    [Action, Adventure, Crime]  "
      ]
     },
     "execution_count": 18,
     "metadata": {},
     "output_type": "execute_result"
    }
   ],
   "source": [
    "# Print the new features of the first 3 films\n",
    "df2[['title', 'cast', 'director', 'keywords', 'genres']].head(3)"
   ]
  },
  {
   "cell_type": "code",
   "execution_count": 19,
   "metadata": {
    "id": "HFtoRf4839G3"
   },
   "outputs": [],
   "source": [
    "# Function to convert all strings to lower case and strip names of spaces\n",
    "def clean_data(x):\n",
    "    if isinstance(x, list):\n",
    "        return [str.lower(i.replace(\" \", \"\")) for i in x]\n",
    "    else:\n",
    "        #Check if director exists. If not, return empty string\n",
    "        if isinstance(x, str):\n",
    "            return str.lower(x.replace(\" \", \"\"))\n",
    "        else:\n",
    "            return ''"
   ]
  },
  {
   "cell_type": "code",
   "execution_count": 20,
   "metadata": {
    "colab": {
     "base_uri": "https://localhost:8080/"
    },
    "id": "OfdAeI8J39JH",
    "outputId": "b75771a4-952d-43b3-b8a1-798007dc9d26"
   },
   "outputs": [],
   "source": [
    "# Apply clean_data function to your features.\n",
    "features = ['cast', 'keywords', 'director', 'genres']\n",
    "\n",
    "for feature in features:\n",
    "    df2[feature] = df2[feature].apply(clean_data)"
   ]
  },
  {
   "cell_type": "code",
   "execution_count": 21,
   "metadata": {
    "id": "YmLBzsQ139Ll"
   },
   "outputs": [],
   "source": [
    "def create_all(x):\n",
    "    return ' '.join(x['keywords']) + ' ' + ' '.join(x['cast']) + ' ' + x['director'] + ' ' + ' '.join(x['genres'])\n",
    "df2['soup'] = df2.apply(create_all, axis=1)"
   ]
  },
  {
   "cell_type": "code",
   "execution_count": 22,
   "metadata": {
    "colab": {
     "base_uri": "https://localhost:8080/"
    },
    "id": "7SsMooXb39Nx",
    "outputId": "cf917de2-a1d8-4cef-d876-c756ea7bf59a"
   },
   "outputs": [
    {
     "data": {
      "text/plain": [
       "(4803, 11520)"
      ]
     },
     "execution_count": 22,
     "metadata": {},
     "output_type": "execute_result"
    }
   ],
   "source": [
    "# Import CountVectorizer and create the count matrix\n",
    "\n",
    "count = CountVectorizer(stop_words='english')\n",
    "count_matrix = count.fit_transform(df2['soup'])\n",
    "count_matrix.shape"
   ]
  },
  {
   "cell_type": "code",
   "execution_count": 23,
   "metadata": {
    "id": "cL7i3xwR39QE"
   },
   "outputs": [],
   "source": [
    "# Compute the Cosine Similarity matrix based on the count_matrix\n",
    "\n",
    "cosine_sim2 = cosine_similarity(count_matrix, count_matrix)"
   ]
  },
  {
   "cell_type": "code",
   "execution_count": 24,
   "metadata": {
    "id": "phjDCCpC39SQ"
   },
   "outputs": [],
   "source": [
    "indices = pd.Series(df2.index, index=df2['title'])"
   ]
  },
  {
   "cell_type": "code",
   "execution_count": 25,
   "metadata": {
    "colab": {
     "base_uri": "https://localhost:8080/"
    },
    "id": "38x7m0T44vgc",
    "outputId": "44be5157-cb40-438d-fff7-624fa9e4a1bc"
   },
   "outputs": [
    {
     "name": "stdout",
     "output_type": "stream",
     "text": [
      "65               The Dark Knight\n",
      "119                Batman Begins\n",
      "4638    Amidst the Devil's Wings\n",
      "1196                The Prestige\n",
      "3073           Romeo Is Bleeding\n",
      "3326              Black November\n",
      "1503                      Takers\n",
      "1986                      Faster\n",
      "303                     Catwoman\n",
      "747               Gangster Squad\n",
      "Name: title, dtype: object\n"
     ]
    }
   ],
   "source": [
    "#Get recommendations for 'The Dark Knight Rises'\n",
    "\n",
    "print(get_recommendations('The Dark Knight Rises', cosine_sim2))"
   ]
  },
  {
   "cell_type": "code",
   "execution_count": 26,
   "metadata": {},
   "outputs": [
    {
     "name": "stdout",
     "output_type": "stream",
     "text": [
      "867      The Godfather: Part III\n",
      "2731      The Godfather: Part II\n",
      "4638    Amidst the Devil's Wings\n",
      "2649           The Son of No One\n",
      "1525              Apocalypse Now\n",
      "1018             The Cotton Club\n",
      "1170     The Talented Mr. Ripley\n",
      "1209               The Rainmaker\n",
      "1394               Donnie Brasco\n",
      "1850                    Scarface\n",
      "Name: title, dtype: object\n"
     ]
    }
   ],
   "source": [
    "#Get recommendations for 'The Godfather'\n",
    "\n",
    "print(get_recommendations('The Godfather', cosine_sim2))"
   ]
  },
  {
   "cell_type": "markdown",
   "metadata": {
    "id": "732uNtp07D7B"
   },
   "source": [
    "# Collaborative Filtering"
   ]
  },
  {
   "cell_type": "code",
   "execution_count": 27,
   "metadata": {
    "id": "oqtE7pIq67F8"
   },
   "outputs": [],
   "source": [
    "#Preparing matrix for user-based and item-based\n",
    "user_ratings_pivot0 = ratings.pivot(index='userId', columns='movieId', values='rating')\n",
    "avg_ratings = user_ratings_pivot0.mean(axis=1)\n",
    "user_ratings_pivot = user_ratings_pivot0.sub(avg_ratings, axis=0)\n",
    "# user_based matrix\n",
    "user_ratings_pivot.fillna(0, inplace=True)\n",
    "# Change from user_based to item_based matrix\n",
    "movie_ratings_pivot = user_ratings_pivot.T"
   ]
  },
  {
   "cell_type": "markdown",
   "metadata": {
    "id": "U1-rCeAmDyfy"
   },
   "source": [
    "## Item Baesd"
   ]
  },
  {
   "cell_type": "code",
   "execution_count": 28,
   "metadata": {
    "colab": {
     "base_uri": "https://localhost:8080/",
     "height": 331
    },
    "id": "p9GfrijWDu4U",
    "outputId": "c4d5c5fb-4d87-40e6-c147-e19b84e7fe23"
   },
   "outputs": [
    {
     "data": {
      "text/html": [
       "<div>\n",
       "<style scoped>\n",
       "    .dataframe tbody tr th:only-of-type {\n",
       "        vertical-align: middle;\n",
       "    }\n",
       "\n",
       "    .dataframe tbody tr th {\n",
       "        vertical-align: top;\n",
       "    }\n",
       "\n",
       "    .dataframe thead th {\n",
       "        text-align: right;\n",
       "    }\n",
       "</style>\n",
       "<table border=\"1\" class=\"dataframe\">\n",
       "  <thead>\n",
       "    <tr style=\"text-align: right;\">\n",
       "      <th>movieId</th>\n",
       "      <th>1</th>\n",
       "      <th>2</th>\n",
       "      <th>3</th>\n",
       "      <th>4</th>\n",
       "      <th>5</th>\n",
       "      <th>6</th>\n",
       "      <th>7</th>\n",
       "      <th>8</th>\n",
       "      <th>9</th>\n",
       "      <th>10</th>\n",
       "      <th>...</th>\n",
       "      <th>161084</th>\n",
       "      <th>161155</th>\n",
       "      <th>161594</th>\n",
       "      <th>161830</th>\n",
       "      <th>161918</th>\n",
       "      <th>161944</th>\n",
       "      <th>162376</th>\n",
       "      <th>162542</th>\n",
       "      <th>162672</th>\n",
       "      <th>163949</th>\n",
       "    </tr>\n",
       "    <tr>\n",
       "      <th>movieId</th>\n",
       "      <th></th>\n",
       "      <th></th>\n",
       "      <th></th>\n",
       "      <th></th>\n",
       "      <th></th>\n",
       "      <th></th>\n",
       "      <th></th>\n",
       "      <th></th>\n",
       "      <th></th>\n",
       "      <th></th>\n",
       "      <th></th>\n",
       "      <th></th>\n",
       "      <th></th>\n",
       "      <th></th>\n",
       "      <th></th>\n",
       "      <th></th>\n",
       "      <th></th>\n",
       "      <th></th>\n",
       "      <th></th>\n",
       "      <th></th>\n",
       "      <th></th>\n",
       "    </tr>\n",
       "  </thead>\n",
       "  <tbody>\n",
       "    <tr>\n",
       "      <th>1</th>\n",
       "      <td>1.000000</td>\n",
       "      <td>-0.042287</td>\n",
       "      <td>-0.064368</td>\n",
       "      <td>-0.080701</td>\n",
       "      <td>-0.041198</td>\n",
       "      <td>-0.014749</td>\n",
       "      <td>-0.028232</td>\n",
       "      <td>0.005169</td>\n",
       "      <td>-0.078349</td>\n",
       "      <td>-0.048015</td>\n",
       "      <td>...</td>\n",
       "      <td>-0.009536</td>\n",
       "      <td>0.044510</td>\n",
       "      <td>-0.116383</td>\n",
       "      <td>-0.150744</td>\n",
       "      <td>-0.150744</td>\n",
       "      <td>0.033538</td>\n",
       "      <td>0.116383</td>\n",
       "      <td>0.0</td>\n",
       "      <td>0.0</td>\n",
       "      <td>0.009536</td>\n",
       "    </tr>\n",
       "    <tr>\n",
       "      <th>2</th>\n",
       "      <td>-0.042287</td>\n",
       "      <td>1.000000</td>\n",
       "      <td>-0.031495</td>\n",
       "      <td>-0.059223</td>\n",
       "      <td>-0.063168</td>\n",
       "      <td>-0.102614</td>\n",
       "      <td>0.036673</td>\n",
       "      <td>0.049508</td>\n",
       "      <td>-0.024567</td>\n",
       "      <td>0.200814</td>\n",
       "      <td>...</td>\n",
       "      <td>0.000000</td>\n",
       "      <td>0.079861</td>\n",
       "      <td>0.112288</td>\n",
       "      <td>-0.013585</td>\n",
       "      <td>-0.013585</td>\n",
       "      <td>0.060176</td>\n",
       "      <td>-0.112288</td>\n",
       "      <td>0.0</td>\n",
       "      <td>0.0</td>\n",
       "      <td>0.000000</td>\n",
       "    </tr>\n",
       "    <tr>\n",
       "      <th>3</th>\n",
       "      <td>-0.064368</td>\n",
       "      <td>-0.031495</td>\n",
       "      <td>1.000000</td>\n",
       "      <td>0.049531</td>\n",
       "      <td>0.175350</td>\n",
       "      <td>-0.086597</td>\n",
       "      <td>-0.034197</td>\n",
       "      <td>0.179569</td>\n",
       "      <td>0.042033</td>\n",
       "      <td>0.016735</td>\n",
       "      <td>...</td>\n",
       "      <td>0.000000</td>\n",
       "      <td>0.000000</td>\n",
       "      <td>0.000000</td>\n",
       "      <td>-0.012656</td>\n",
       "      <td>-0.012656</td>\n",
       "      <td>0.000000</td>\n",
       "      <td>0.000000</td>\n",
       "      <td>0.0</td>\n",
       "      <td>0.0</td>\n",
       "      <td>0.000000</td>\n",
       "    </tr>\n",
       "    <tr>\n",
       "      <th>4</th>\n",
       "      <td>-0.080701</td>\n",
       "      <td>-0.059223</td>\n",
       "      <td>0.049531</td>\n",
       "      <td>1.000000</td>\n",
       "      <td>0.052369</td>\n",
       "      <td>-0.005074</td>\n",
       "      <td>0.075090</td>\n",
       "      <td>-0.105059</td>\n",
       "      <td>0.042350</td>\n",
       "      <td>0.039380</td>\n",
       "      <td>...</td>\n",
       "      <td>0.000000</td>\n",
       "      <td>0.000000</td>\n",
       "      <td>0.000000</td>\n",
       "      <td>0.000000</td>\n",
       "      <td>0.000000</td>\n",
       "      <td>0.000000</td>\n",
       "      <td>0.000000</td>\n",
       "      <td>0.0</td>\n",
       "      <td>0.0</td>\n",
       "      <td>0.000000</td>\n",
       "    </tr>\n",
       "    <tr>\n",
       "      <th>5</th>\n",
       "      <td>-0.041198</td>\n",
       "      <td>-0.063168</td>\n",
       "      <td>0.175350</td>\n",
       "      <td>0.052369</td>\n",
       "      <td>1.000000</td>\n",
       "      <td>0.066489</td>\n",
       "      <td>-0.009678</td>\n",
       "      <td>0.017522</td>\n",
       "      <td>-0.029532</td>\n",
       "      <td>-0.000736</td>\n",
       "      <td>...</td>\n",
       "      <td>0.000000</td>\n",
       "      <td>-0.275465</td>\n",
       "      <td>0.000000</td>\n",
       "      <td>-0.015511</td>\n",
       "      <td>-0.015511</td>\n",
       "      <td>0.000000</td>\n",
       "      <td>0.000000</td>\n",
       "      <td>0.0</td>\n",
       "      <td>0.0</td>\n",
       "      <td>0.000000</td>\n",
       "    </tr>\n",
       "  </tbody>\n",
       "</table>\n",
       "<p>5 rows × 9066 columns</p>\n",
       "</div>"
      ],
      "text/plain": [
       "movieId    1         2         3         4         5         6         7       \\\n",
       "movieId                                                                         \n",
       "1        1.000000 -0.042287 -0.064368 -0.080701 -0.041198 -0.014749 -0.028232   \n",
       "2       -0.042287  1.000000 -0.031495 -0.059223 -0.063168 -0.102614  0.036673   \n",
       "3       -0.064368 -0.031495  1.000000  0.049531  0.175350 -0.086597 -0.034197   \n",
       "4       -0.080701 -0.059223  0.049531  1.000000  0.052369 -0.005074  0.075090   \n",
       "5       -0.041198 -0.063168  0.175350  0.052369  1.000000  0.066489 -0.009678   \n",
       "\n",
       "movieId    8         9         10      ...    161084    161155    161594  \\\n",
       "movieId                                ...                                 \n",
       "1        0.005169 -0.078349 -0.048015  ... -0.009536  0.044510 -0.116383   \n",
       "2        0.049508 -0.024567  0.200814  ...  0.000000  0.079861  0.112288   \n",
       "3        0.179569  0.042033  0.016735  ...  0.000000  0.000000  0.000000   \n",
       "4       -0.105059  0.042350  0.039380  ...  0.000000  0.000000  0.000000   \n",
       "5        0.017522 -0.029532 -0.000736  ...  0.000000 -0.275465  0.000000   \n",
       "\n",
       "movieId    161830    161918    161944    162376  162542  162672    163949  \n",
       "movieId                                                                    \n",
       "1       -0.150744 -0.150744  0.033538  0.116383     0.0     0.0  0.009536  \n",
       "2       -0.013585 -0.013585  0.060176 -0.112288     0.0     0.0  0.000000  \n",
       "3       -0.012656 -0.012656  0.000000  0.000000     0.0     0.0  0.000000  \n",
       "4        0.000000  0.000000  0.000000  0.000000     0.0     0.0  0.000000  \n",
       "5       -0.015511 -0.015511  0.000000  0.000000     0.0     0.0  0.000000  \n",
       "\n",
       "[5 rows x 9066 columns]"
      ]
     },
     "execution_count": 28,
     "metadata": {},
     "output_type": "execute_result"
    }
   ],
   "source": [
    "#Matrix of similarity between each movie\n",
    "similarities = cosine_similarity(movie_ratings_pivot)\n",
    "cosine_similarity_df = pd.DataFrame(similarities,\n",
    "                                    columns=movie_ratings_pivot.index,\n",
    "                                    index=movie_ratings_pivot.index)\n",
    "cosine_similarity_df.head()"
   ]
  },
  {
   "cell_type": "code",
   "execution_count": 29,
   "metadata": {
    "colab": {
     "base_uri": "https://localhost:8080/"
    },
    "id": "owYq5N1MEq4J",
    "outputId": "1494a922-a282-433c-f0e9-f5ba03095897"
   },
   "outputs": [
    {
     "data": {
      "text/plain": [
       "movieId\n",
       "1        1.000000\n",
       "3114     0.401537\n",
       "78499    0.267200\n",
       "2355     0.244279\n",
       "471      0.206070\n",
       "8961     0.205355\n",
       "3034     0.200939\n",
       "1198     0.198590\n",
       "58559    0.198550\n",
       "4886     0.198196\n",
       "Name: 1, dtype: float64"
      ]
     },
     "execution_count": 29,
     "metadata": {},
     "output_type": "execute_result"
    }
   ],
   "source": [
    "#List the top 10 movie which is most similar to movie 1\n",
    "cosine_similarity_df.loc[1].sort_values(ascending=False).head(10)\n"
   ]
  },
  {
   "cell_type": "markdown",
   "metadata": {
    "id": "YO9Xnyaq7Kvg"
   },
   "source": [
    "## KNN(User Based)"
   ]
  },
  {
   "cell_type": "code",
   "execution_count": 30,
   "metadata": {
    "colab": {
     "base_uri": "https://localhost:8080/",
     "height": 331
    },
    "id": "g83_IGwC7MrP",
    "outputId": "62d6108c-ae5e-45de-9423-69095a4988f4"
   },
   "outputs": [
    {
     "data": {
      "text/html": [
       "<div>\n",
       "<style scoped>\n",
       "    .dataframe tbody tr th:only-of-type {\n",
       "        vertical-align: middle;\n",
       "    }\n",
       "\n",
       "    .dataframe tbody tr th {\n",
       "        vertical-align: top;\n",
       "    }\n",
       "\n",
       "    .dataframe thead th {\n",
       "        text-align: right;\n",
       "    }\n",
       "</style>\n",
       "<table border=\"1\" class=\"dataframe\">\n",
       "  <thead>\n",
       "    <tr style=\"text-align: right;\">\n",
       "      <th>userId</th>\n",
       "      <th>1</th>\n",
       "      <th>2</th>\n",
       "      <th>3</th>\n",
       "      <th>4</th>\n",
       "      <th>5</th>\n",
       "      <th>6</th>\n",
       "      <th>7</th>\n",
       "      <th>8</th>\n",
       "      <th>9</th>\n",
       "      <th>10</th>\n",
       "      <th>...</th>\n",
       "      <th>662</th>\n",
       "      <th>663</th>\n",
       "      <th>664</th>\n",
       "      <th>665</th>\n",
       "      <th>666</th>\n",
       "      <th>667</th>\n",
       "      <th>668</th>\n",
       "      <th>669</th>\n",
       "      <th>670</th>\n",
       "      <th>671</th>\n",
       "    </tr>\n",
       "    <tr>\n",
       "      <th>userId</th>\n",
       "      <th></th>\n",
       "      <th></th>\n",
       "      <th></th>\n",
       "      <th></th>\n",
       "      <th></th>\n",
       "      <th></th>\n",
       "      <th></th>\n",
       "      <th></th>\n",
       "      <th></th>\n",
       "      <th></th>\n",
       "      <th></th>\n",
       "      <th></th>\n",
       "      <th></th>\n",
       "      <th></th>\n",
       "      <th></th>\n",
       "      <th></th>\n",
       "      <th></th>\n",
       "      <th></th>\n",
       "      <th></th>\n",
       "      <th></th>\n",
       "      <th></th>\n",
       "    </tr>\n",
       "  </thead>\n",
       "  <tbody>\n",
       "    <tr>\n",
       "      <th>1</th>\n",
       "      <td>1.000000</td>\n",
       "      <td>0.000000</td>\n",
       "      <td>0.000000</td>\n",
       "      <td>0.003620</td>\n",
       "      <td>-0.002274</td>\n",
       "      <td>0.000000</td>\n",
       "      <td>-0.070321</td>\n",
       "      <td>0.000000</td>\n",
       "      <td>0.042632</td>\n",
       "      <td>0.000000</td>\n",
       "      <td>...</td>\n",
       "      <td>0.000000</td>\n",
       "      <td>0.000000</td>\n",
       "      <td>0.018643</td>\n",
       "      <td>0.001031</td>\n",
       "      <td>0.000000</td>\n",
       "      <td>0.000000</td>\n",
       "      <td>0.000000</td>\n",
       "      <td>0.044095</td>\n",
       "      <td>0.000000</td>\n",
       "      <td>-0.013096</td>\n",
       "    </tr>\n",
       "    <tr>\n",
       "      <th>2</th>\n",
       "      <td>0.000000</td>\n",
       "      <td>1.000000</td>\n",
       "      <td>-0.001852</td>\n",
       "      <td>-0.004854</td>\n",
       "      <td>0.012639</td>\n",
       "      <td>0.000000</td>\n",
       "      <td>0.042691</td>\n",
       "      <td>0.021066</td>\n",
       "      <td>0.011109</td>\n",
       "      <td>-0.007989</td>\n",
       "      <td>...</td>\n",
       "      <td>-0.018248</td>\n",
       "      <td>-0.021546</td>\n",
       "      <td>0.018902</td>\n",
       "      <td>-0.058952</td>\n",
       "      <td>0.028515</td>\n",
       "      <td>-0.106828</td>\n",
       "      <td>-0.007999</td>\n",
       "      <td>-0.041628</td>\n",
       "      <td>-0.090233</td>\n",
       "      <td>0.056258</td>\n",
       "    </tr>\n",
       "    <tr>\n",
       "      <th>3</th>\n",
       "      <td>0.000000</td>\n",
       "      <td>-0.001852</td>\n",
       "      <td>1.000000</td>\n",
       "      <td>0.018594</td>\n",
       "      <td>-0.025903</td>\n",
       "      <td>-0.063200</td>\n",
       "      <td>0.054900</td>\n",
       "      <td>0.026488</td>\n",
       "      <td>-0.036187</td>\n",
       "      <td>0.038021</td>\n",
       "      <td>...</td>\n",
       "      <td>0.044297</td>\n",
       "      <td>0.019581</td>\n",
       "      <td>0.070702</td>\n",
       "      <td>0.030669</td>\n",
       "      <td>0.143705</td>\n",
       "      <td>0.096713</td>\n",
       "      <td>0.027451</td>\n",
       "      <td>0.089297</td>\n",
       "      <td>-0.009815</td>\n",
       "      <td>0.062276</td>\n",
       "    </tr>\n",
       "    <tr>\n",
       "      <th>4</th>\n",
       "      <td>0.003620</td>\n",
       "      <td>-0.004854</td>\n",
       "      <td>0.018594</td>\n",
       "      <td>1.000000</td>\n",
       "      <td>0.010801</td>\n",
       "      <td>0.019224</td>\n",
       "      <td>0.057519</td>\n",
       "      <td>0.055430</td>\n",
       "      <td>-0.010442</td>\n",
       "      <td>0.005126</td>\n",
       "      <td>...</td>\n",
       "      <td>0.011978</td>\n",
       "      <td>0.006569</td>\n",
       "      <td>0.027687</td>\n",
       "      <td>0.092092</td>\n",
       "      <td>0.021334</td>\n",
       "      <td>0.040833</td>\n",
       "      <td>0.018428</td>\n",
       "      <td>0.028642</td>\n",
       "      <td>0.019848</td>\n",
       "      <td>0.032749</td>\n",
       "    </tr>\n",
       "    <tr>\n",
       "      <th>5</th>\n",
       "      <td>-0.002274</td>\n",
       "      <td>0.012639</td>\n",
       "      <td>-0.025903</td>\n",
       "      <td>0.010801</td>\n",
       "      <td>1.000000</td>\n",
       "      <td>-0.005843</td>\n",
       "      <td>-0.015075</td>\n",
       "      <td>-0.038886</td>\n",
       "      <td>0.013708</td>\n",
       "      <td>0.030500</td>\n",
       "      <td>...</td>\n",
       "      <td>0.046134</td>\n",
       "      <td>0.001903</td>\n",
       "      <td>0.001620</td>\n",
       "      <td>0.036819</td>\n",
       "      <td>-0.038269</td>\n",
       "      <td>-0.019537</td>\n",
       "      <td>-0.071721</td>\n",
       "      <td>0.003760</td>\n",
       "      <td>-0.029455</td>\n",
       "      <td>-0.036814</td>\n",
       "    </tr>\n",
       "  </tbody>\n",
       "</table>\n",
       "<p>5 rows × 671 columns</p>\n",
       "</div>"
      ],
      "text/plain": [
       "userId       1         2         3         4         5         6         7    \\\n",
       "userId                                                                         \n",
       "1       1.000000  0.000000  0.000000  0.003620 -0.002274  0.000000 -0.070321   \n",
       "2       0.000000  1.000000 -0.001852 -0.004854  0.012639  0.000000  0.042691   \n",
       "3       0.000000 -0.001852  1.000000  0.018594 -0.025903 -0.063200  0.054900   \n",
       "4       0.003620 -0.004854  0.018594  1.000000  0.010801  0.019224  0.057519   \n",
       "5      -0.002274  0.012639 -0.025903  0.010801  1.000000 -0.005843 -0.015075   \n",
       "\n",
       "userId       8         9         10   ...       662       663       664  \\\n",
       "userId                                ...                                 \n",
       "1       0.000000  0.042632  0.000000  ...  0.000000  0.000000  0.018643   \n",
       "2       0.021066  0.011109 -0.007989  ... -0.018248 -0.021546  0.018902   \n",
       "3       0.026488 -0.036187  0.038021  ...  0.044297  0.019581  0.070702   \n",
       "4       0.055430 -0.010442  0.005126  ...  0.011978  0.006569  0.027687   \n",
       "5      -0.038886  0.013708  0.030500  ...  0.046134  0.001903  0.001620   \n",
       "\n",
       "userId       665       666       667       668       669       670       671  \n",
       "userId                                                                        \n",
       "1       0.001031  0.000000  0.000000  0.000000  0.044095  0.000000 -0.013096  \n",
       "2      -0.058952  0.028515 -0.106828 -0.007999 -0.041628 -0.090233  0.056258  \n",
       "3       0.030669  0.143705  0.096713  0.027451  0.089297 -0.009815  0.062276  \n",
       "4       0.092092  0.021334  0.040833  0.018428  0.028642  0.019848  0.032749  \n",
       "5       0.036819 -0.038269 -0.019537 -0.071721  0.003760 -0.029455 -0.036814  \n",
       "\n",
       "[5 rows x 671 columns]"
      ]
     },
     "execution_count": 30,
     "metadata": {},
     "output_type": "execute_result"
    }
   ],
   "source": [
    "similarities = cosine_similarity(user_ratings_pivot)\n",
    "cosine_similarity_df = pd.DataFrame(similarities, \n",
    "                                    index=user_ratings_pivot.index,\n",
    "                                    columns=user_ratings_pivot.index)\n",
    "cosine_similarity_df.head()"
   ]
  },
  {
   "cell_type": "code",
   "execution_count": 31,
   "metadata": {
    "colab": {
     "base_uri": "https://localhost:8080/"
    },
    "id": "YryrByGl8G-e",
    "outputId": "0a919b08-2a97-4dd2-d6f7-654900ee05bc"
   },
   "outputs": [
    {
     "data": {
      "text/plain": [
       "Int64Index([35, 197, 539], dtype='int64', name='userId')"
      ]
     },
     "execution_count": 31,
     "metadata": {},
     "output_type": "execute_result"
    }
   ],
   "source": [
    "#We find the 3 most similar user.\n",
    "#We then find the ratings there users gave to the movie from the orginal rating dataframe and get the mean. \n",
    "#This rating represents the rating the user would likely give to movieX based on the rating users similar to them gave it.\n",
    "nearest_neighbors = cosine_similarity_df[1].sort_values(ascending=False)[1:4].index\n",
    "nearest_neighbors"
   ]
  },
  {
   "cell_type": "markdown",
   "metadata": {
    "id": "fEqKnM1c7OSX"
   },
   "source": [
    "## SVD"
   ]
  },
  {
   "cell_type": "code",
   "execution_count": 32,
   "metadata": {
    "id": "LrG6HZzO-TP-"
   },
   "outputs": [],
   "source": [
    "from surprise import Reader, Dataset, SVD\n",
    "from surprise.model_selection import train_test_split\n",
    "from surprise.model_selection import GridSearchCV\n",
    "from surprise.model_selection import cross_validate\n",
    "from surprise import accuracy\n",
    "reader = Reader()"
   ]
  },
  {
   "cell_type": "code",
   "execution_count": 33,
   "metadata": {
    "colab": {
     "base_uri": "https://localhost:8080/"
    },
    "id": "QvnC6U1L7Qbz",
    "outputId": "b9cbafa8-37e4-47f2-cb40-9d9dee636ae5"
   },
   "outputs": [
    {
     "name": "stdout",
     "output_type": "stream",
     "text": [
      "Evaluating RMSE, MAE of algorithm SVD on 5 split(s).\n",
      "\n",
      "                  Fold 1  Fold 2  Fold 3  Fold 4  Fold 5  Mean    Std     \n",
      "RMSE (testset)    0.8923  0.9042  0.8957  0.8940  0.9026  0.8978  0.0048  \n",
      "MAE (testset)     0.6850  0.6947  0.6919  0.6879  0.6968  0.6913  0.0043  \n",
      "Fit time          4.73    4.79    4.70    4.66    4.93    4.76    0.09    \n",
      "Test time         0.16    0.14    0.13    0.13    0.12    0.13    0.01    \n"
     ]
    },
    {
     "data": {
      "text/plain": [
       "<surprise.prediction_algorithms.matrix_factorization.SVD at 0x7fb714e97be0>"
      ]
     },
     "execution_count": 33,
     "metadata": {},
     "output_type": "execute_result"
    }
   ],
   "source": [
    "# Load data\n",
    "data = Dataset.load_from_df(ratings[['userId', 'movieId', 'rating']], reader)\n",
    "\n",
    "#SVD\n",
    "svd = SVD()\n",
    "cross_validate(svd, data, measures=['RMSE', 'MAE'], cv=5,n_jobs=-1,verbose=True)\n",
    "\n",
    "#Fit the model\n",
    "data=data.build_full_trainset()\n",
    "svd.fit(data)\n"
   ]
  },
  {
   "cell_type": "code",
   "execution_count": 34,
   "metadata": {
    "id": "S4eTOh2mU8xd"
   },
   "outputs": [
    {
     "data": {
      "text/html": [
       "<div>\n",
       "<style scoped>\n",
       "    .dataframe tbody tr th:only-of-type {\n",
       "        vertical-align: middle;\n",
       "    }\n",
       "\n",
       "    .dataframe tbody tr th {\n",
       "        vertical-align: top;\n",
       "    }\n",
       "\n",
       "    .dataframe thead th {\n",
       "        text-align: right;\n",
       "    }\n",
       "</style>\n",
       "<table border=\"1\" class=\"dataframe\">\n",
       "  <thead>\n",
       "    <tr style=\"text-align: right;\">\n",
       "      <th></th>\n",
       "      <th>userId</th>\n",
       "      <th>movieId</th>\n",
       "      <th>rating</th>\n",
       "      <th>timestamp</th>\n",
       "    </tr>\n",
       "  </thead>\n",
       "  <tbody>\n",
       "    <tr>\n",
       "      <th>0</th>\n",
       "      <td>1</td>\n",
       "      <td>31</td>\n",
       "      <td>2.5</td>\n",
       "      <td>1260759144</td>\n",
       "    </tr>\n",
       "    <tr>\n",
       "      <th>1</th>\n",
       "      <td>1</td>\n",
       "      <td>1029</td>\n",
       "      <td>3.0</td>\n",
       "      <td>1260759179</td>\n",
       "    </tr>\n",
       "    <tr>\n",
       "      <th>2</th>\n",
       "      <td>1</td>\n",
       "      <td>1061</td>\n",
       "      <td>3.0</td>\n",
       "      <td>1260759182</td>\n",
       "    </tr>\n",
       "    <tr>\n",
       "      <th>3</th>\n",
       "      <td>1</td>\n",
       "      <td>1129</td>\n",
       "      <td>2.0</td>\n",
       "      <td>1260759185</td>\n",
       "    </tr>\n",
       "    <tr>\n",
       "      <th>4</th>\n",
       "      <td>1</td>\n",
       "      <td>1172</td>\n",
       "      <td>4.0</td>\n",
       "      <td>1260759205</td>\n",
       "    </tr>\n",
       "    <tr>\n",
       "      <th>5</th>\n",
       "      <td>1</td>\n",
       "      <td>1263</td>\n",
       "      <td>2.0</td>\n",
       "      <td>1260759151</td>\n",
       "    </tr>\n",
       "    <tr>\n",
       "      <th>6</th>\n",
       "      <td>1</td>\n",
       "      <td>1287</td>\n",
       "      <td>2.0</td>\n",
       "      <td>1260759187</td>\n",
       "    </tr>\n",
       "    <tr>\n",
       "      <th>7</th>\n",
       "      <td>1</td>\n",
       "      <td>1293</td>\n",
       "      <td>2.0</td>\n",
       "      <td>1260759148</td>\n",
       "    </tr>\n",
       "    <tr>\n",
       "      <th>8</th>\n",
       "      <td>1</td>\n",
       "      <td>1339</td>\n",
       "      <td>3.5</td>\n",
       "      <td>1260759125</td>\n",
       "    </tr>\n",
       "    <tr>\n",
       "      <th>9</th>\n",
       "      <td>1</td>\n",
       "      <td>1343</td>\n",
       "      <td>2.0</td>\n",
       "      <td>1260759131</td>\n",
       "    </tr>\n",
       "    <tr>\n",
       "      <th>10</th>\n",
       "      <td>1</td>\n",
       "      <td>1371</td>\n",
       "      <td>2.5</td>\n",
       "      <td>1260759135</td>\n",
       "    </tr>\n",
       "    <tr>\n",
       "      <th>11</th>\n",
       "      <td>1</td>\n",
       "      <td>1405</td>\n",
       "      <td>1.0</td>\n",
       "      <td>1260759203</td>\n",
       "    </tr>\n",
       "    <tr>\n",
       "      <th>12</th>\n",
       "      <td>1</td>\n",
       "      <td>1953</td>\n",
       "      <td>4.0</td>\n",
       "      <td>1260759191</td>\n",
       "    </tr>\n",
       "    <tr>\n",
       "      <th>13</th>\n",
       "      <td>1</td>\n",
       "      <td>2105</td>\n",
       "      <td>4.0</td>\n",
       "      <td>1260759139</td>\n",
       "    </tr>\n",
       "    <tr>\n",
       "      <th>14</th>\n",
       "      <td>1</td>\n",
       "      <td>2150</td>\n",
       "      <td>3.0</td>\n",
       "      <td>1260759194</td>\n",
       "    </tr>\n",
       "    <tr>\n",
       "      <th>15</th>\n",
       "      <td>1</td>\n",
       "      <td>2193</td>\n",
       "      <td>2.0</td>\n",
       "      <td>1260759198</td>\n",
       "    </tr>\n",
       "    <tr>\n",
       "      <th>16</th>\n",
       "      <td>1</td>\n",
       "      <td>2294</td>\n",
       "      <td>2.0</td>\n",
       "      <td>1260759108</td>\n",
       "    </tr>\n",
       "    <tr>\n",
       "      <th>17</th>\n",
       "      <td>1</td>\n",
       "      <td>2455</td>\n",
       "      <td>2.5</td>\n",
       "      <td>1260759113</td>\n",
       "    </tr>\n",
       "    <tr>\n",
       "      <th>18</th>\n",
       "      <td>1</td>\n",
       "      <td>2968</td>\n",
       "      <td>1.0</td>\n",
       "      <td>1260759200</td>\n",
       "    </tr>\n",
       "    <tr>\n",
       "      <th>19</th>\n",
       "      <td>1</td>\n",
       "      <td>3671</td>\n",
       "      <td>3.0</td>\n",
       "      <td>1260759117</td>\n",
       "    </tr>\n",
       "  </tbody>\n",
       "</table>\n",
       "</div>"
      ],
      "text/plain": [
       "    userId  movieId  rating   timestamp\n",
       "0        1       31     2.5  1260759144\n",
       "1        1     1029     3.0  1260759179\n",
       "2        1     1061     3.0  1260759182\n",
       "3        1     1129     2.0  1260759185\n",
       "4        1     1172     4.0  1260759205\n",
       "5        1     1263     2.0  1260759151\n",
       "6        1     1287     2.0  1260759187\n",
       "7        1     1293     2.0  1260759148\n",
       "8        1     1339     3.5  1260759125\n",
       "9        1     1343     2.0  1260759131\n",
       "10       1     1371     2.5  1260759135\n",
       "11       1     1405     1.0  1260759203\n",
       "12       1     1953     4.0  1260759191\n",
       "13       1     2105     4.0  1260759139\n",
       "14       1     2150     3.0  1260759194\n",
       "15       1     2193     2.0  1260759198\n",
       "16       1     2294     2.0  1260759108\n",
       "17       1     2455     2.5  1260759113\n",
       "18       1     2968     1.0  1260759200\n",
       "19       1     3671     3.0  1260759117"
      ]
     },
     "execution_count": 34,
     "metadata": {},
     "output_type": "execute_result"
    }
   ],
   "source": [
    "#Show ratings that user 1 has given \n",
    "ratings[ratings['userId'] == 1]"
   ]
  },
  {
   "cell_type": "code",
   "execution_count": 35,
   "metadata": {
    "id": "Oe3qBbpDVBnI"
   },
   "outputs": [
    {
     "name": "stdout",
     "output_type": "stream",
     "text": [
      "user: 1          item: 302        r_ui = 3.00   est = 2.71   {'was_impossible': False}\n"
     ]
    },
    {
     "data": {
      "text/plain": [
       "Prediction(uid=1, iid=302, r_ui=3, est=2.714368435663937, details={'was_impossible': False})"
      ]
     },
     "execution_count": 35,
     "metadata": {},
     "output_type": "execute_result"
    }
   ],
   "source": [
    "#Predict what rating will user 1 give movie 302\n",
    "svd.predict(1, 302, 3,verbose=True)"
   ]
  },
  {
   "cell_type": "markdown",
   "metadata": {
    "id": "gdNCUbdC7R5W"
   },
   "source": [
    "# Hybrid"
   ]
  },
  {
   "cell_type": "code",
   "execution_count": 36,
   "metadata": {
    "id": "-fjdoRte7TaR"
   },
   "outputs": [],
   "source": [
    "def convert_int(x):\n",
    "    try:\n",
    "        return int(x)\n",
    "    except:\n",
    "        return np.nan\n"
   ]
  },
  {
   "cell_type": "code",
   "execution_count": 37,
   "metadata": {
    "id": "2zz-Pg4Hzxyn"
   },
   "outputs": [
    {
     "name": "stderr",
     "output_type": "stream",
     "text": [
      "/Users/robin_1/opt/anaconda3/lib/python3.8/site-packages/IPython/core/interactiveshell.py:3165: DtypeWarning: Columns (10) have mixed types.Specify dtype option on import or set low_memory=False.\n",
      "  has_raised = await self.run_ast_nodes(code_ast.body, cell_name,\n"
     ]
    }
   ],
   "source": [
    "#Import data and clean data\n",
    "links_small = pd.read_csv('links_small.csv')\n",
    "links_small = links_small[links_small['tmdbId'].notnull()]['tmdbId'].astype('int')\n",
    "md = pd.read_csv('movies_metadata.csv')\n",
    "md = md.drop([19730, 29503, 35587])\n",
    "md['id'] = md['id'].astype('int')\n",
    "smd = md[md['id'].isin(links_small)]\n",
    "df = smd.copy()\n",
    "df.reset_index(inplace=True)\n",
    "id_map = pd.read_csv('links_small.csv')[['movieId', 'tmdbId']]\n",
    "id_map['tmdbId'] = id_map['tmdbId'].apply(convert_int)\n",
    "id_map.columns = ['movieId', 'id']\n",
    "id_map = id_map.merge(df[['title', 'id']], on='id').set_index('title')\n",
    "indices = pd.Series(df.index, index=df['title'])\n",
    "indices_map = id_map.set_index('id')"
   ]
  },
  {
   "cell_type": "code",
   "execution_count": 38,
   "metadata": {
    "id": "4V2JXRW5z7sb"
   },
   "outputs": [],
   "source": [
    "def hybrid(userId, title):\n",
    "    idx = indices[title]\n",
    "    tmdbId = id_map.loc[title]['id']\n",
    "    #print(idx)\n",
    "    movie_id = id_map.loc[title]['movieId']\n",
    "    \n",
    "    sim_scores = list(enumerate(cosine_sim[int(idx)]))\n",
    "    sim_scores = sorted(sim_scores, key=lambda x: x[1], reverse=True)\n",
    "    sim_scores = sim_scores[1:26]\n",
    "    movie_indices = [i[0] for i in sim_scores]\n",
    "    \n",
    "    movies = df.iloc[movie_indices][['title', 'vote_count', 'vote_average', 'id']]\n",
    "    movies['est'] = movies['id'].apply(lambda x: svd.predict(userId, indices_map.loc[x]['movieId']).est)\n",
    "    movies = movies.sort_values('est', ascending=False)\n",
    "    return movies.head(10)"
   ]
  },
  {
   "cell_type": "code",
   "execution_count": 39,
   "metadata": {
    "id": "Z47fjEzPz7xw"
   },
   "outputs": [
    {
     "data": {
      "text/html": [
       "<div>\n",
       "<style scoped>\n",
       "    .dataframe tbody tr th:only-of-type {\n",
       "        vertical-align: middle;\n",
       "    }\n",
       "\n",
       "    .dataframe tbody tr th {\n",
       "        vertical-align: top;\n",
       "    }\n",
       "\n",
       "    .dataframe thead th {\n",
       "        text-align: right;\n",
       "    }\n",
       "</style>\n",
       "<table border=\"1\" class=\"dataframe\">\n",
       "  <thead>\n",
       "    <tr style=\"text-align: right;\">\n",
       "      <th></th>\n",
       "      <th>title</th>\n",
       "      <th>vote_count</th>\n",
       "      <th>vote_average</th>\n",
       "      <th>id</th>\n",
       "      <th>est</th>\n",
       "    </tr>\n",
       "  </thead>\n",
       "  <tbody>\n",
       "    <tr>\n",
       "      <th>2825</th>\n",
       "      <td>Diner</td>\n",
       "      <td>84.0</td>\n",
       "      <td>6.9</td>\n",
       "      <td>13776</td>\n",
       "      <td>3.049462</td>\n",
       "    </tr>\n",
       "    <tr>\n",
       "      <th>1341</th>\n",
       "      <td>Alien Escape</td>\n",
       "      <td>2.0</td>\n",
       "      <td>4.5</td>\n",
       "      <td>29938</td>\n",
       "      <td>2.907070</td>\n",
       "    </tr>\n",
       "    <tr>\n",
       "      <th>312</th>\n",
       "      <td>Bitter Moon</td>\n",
       "      <td>115.0</td>\n",
       "      <td>7.0</td>\n",
       "      <td>10497</td>\n",
       "      <td>2.896159</td>\n",
       "    </tr>\n",
       "    <tr>\n",
       "      <th>2767</th>\n",
       "      <td>Dersu Uzala</td>\n",
       "      <td>90.0</td>\n",
       "      <td>8.0</td>\n",
       "      <td>9764</td>\n",
       "      <td>2.873248</td>\n",
       "    </tr>\n",
       "    <tr>\n",
       "      <th>1449</th>\n",
       "      <td>Quest for Camelot</td>\n",
       "      <td>193.0</td>\n",
       "      <td>6.9</td>\n",
       "      <td>18937</td>\n",
       "      <td>2.808553</td>\n",
       "    </tr>\n",
       "    <tr>\n",
       "      <th>4652</th>\n",
       "      <td>Quai des Orfèvres</td>\n",
       "      <td>15.0</td>\n",
       "      <td>7.8</td>\n",
       "      <td>49842</td>\n",
       "      <td>2.727452</td>\n",
       "    </tr>\n",
       "    <tr>\n",
       "      <th>634</th>\n",
       "      <td>Heavy</td>\n",
       "      <td>11.0</td>\n",
       "      <td>7.7</td>\n",
       "      <td>22621</td>\n",
       "      <td>2.697604</td>\n",
       "    </tr>\n",
       "    <tr>\n",
       "      <th>1345</th>\n",
       "      <td>The Butcher Boy</td>\n",
       "      <td>36.0</td>\n",
       "      <td>6.7</td>\n",
       "      <td>22797</td>\n",
       "      <td>2.693474</td>\n",
       "    </tr>\n",
       "    <tr>\n",
       "      <th>942</th>\n",
       "      <td>Strictly Ballroom</td>\n",
       "      <td>83.0</td>\n",
       "      <td>6.2</td>\n",
       "      <td>10409</td>\n",
       "      <td>2.682038</td>\n",
       "    </tr>\n",
       "    <tr>\n",
       "      <th>1784</th>\n",
       "      <td>One Crazy Summer</td>\n",
       "      <td>54.0</td>\n",
       "      <td>6.4</td>\n",
       "      <td>18282</td>\n",
       "      <td>2.670652</td>\n",
       "    </tr>\n",
       "  </tbody>\n",
       "</table>\n",
       "</div>"
      ],
      "text/plain": [
       "                  title  vote_count  vote_average     id       est\n",
       "2825              Diner        84.0           6.9  13776  3.049462\n",
       "1341       Alien Escape         2.0           4.5  29938  2.907070\n",
       "312         Bitter Moon       115.0           7.0  10497  2.896159\n",
       "2767        Dersu Uzala        90.0           8.0   9764  2.873248\n",
       "1449  Quest for Camelot       193.0           6.9  18937  2.808553\n",
       "4652  Quai des Orfèvres        15.0           7.8  49842  2.727452\n",
       "634               Heavy        11.0           7.7  22621  2.697604\n",
       "1345    The Butcher Boy        36.0           6.7  22797  2.693474\n",
       "942   Strictly Ballroom        83.0           6.2  10409  2.682038\n",
       "1784   One Crazy Summer        54.0           6.4  18282  2.670652"
      ]
     },
     "execution_count": 39,
     "metadata": {},
     "output_type": "execute_result"
    }
   ],
   "source": [
    "hybrid(1, 'Toy Story')"
   ]
  }
 ],
 "metadata": {
  "colab": {
   "collapsed_sections": [],
   "name": "Movie Recommendation System.ipynb",
   "provenance": [],
   "toc_visible": true
  },
  "kernelspec": {
   "display_name": "Python 3",
   "language": "python",
   "name": "python3"
  },
  "language_info": {
   "codemirror_mode": {
    "name": "ipython",
    "version": 3
   },
   "file_extension": ".py",
   "mimetype": "text/x-python",
   "name": "python",
   "nbconvert_exporter": "python",
   "pygments_lexer": "ipython3",
   "version": "3.8.8"
  }
 },
 "nbformat": 4,
 "nbformat_minor": 1
}
